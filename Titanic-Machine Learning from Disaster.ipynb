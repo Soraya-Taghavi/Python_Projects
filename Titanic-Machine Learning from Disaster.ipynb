{
 "cells": [
  {
   "cell_type": "markdown",
   "source": [
    "Importing necessary libraries for data manipulation, visualization, and machine learning"
   ],
   "metadata": {
    "collapsed": false
   },
   "id": "a77fbb963333cd03"
  },
  {
   "cell_type": "code",
   "execution_count": 194,
   "id": "initial_id",
   "metadata": {
    "collapsed": true,
    "ExecuteTime": {
     "end_time": "2024-06-16T08:35:44.982520Z",
     "start_time": "2024-06-16T08:35:44.951821Z"
    }
   },
   "outputs": [],
   "source": [
    "# Imports\n",
    "import pandas as pd\n",
    "import matplotlib.pyplot as plt\n",
    "import seaborn as sns\n",
    "from sklearn.model_selection import train_test_split, GridSearchCV\n",
    "from sklearn.linear_model import LogisticRegression\n",
    "from sklearn.preprocessing import StandardScaler\n",
    "from sklearn.pipeline import Pipeline\n",
    "from sklearn.metrics import accuracy_score, classification_report\n",
    "from sklearn.ensemble import RandomForestClassifier\n",
    "\n"
   ]
  },
  {
   "cell_type": "markdown",
   "source": [
    "Loading the train and test datasets into pandas DataFrames"
   ],
   "metadata": {
    "collapsed": false
   },
   "id": "5874976b5a944552"
  },
  {
   "cell_type": "code",
   "outputs": [],
   "source": [
    "# Loading datasets\n",
    "train = pd.read_csv('train.csv')\n",
    "test = pd.read_csv('test.csv')\n"
   ],
   "metadata": {
    "collapsed": false,
    "ExecuteTime": {
     "end_time": "2024-06-16T08:35:45.005908Z",
     "start_time": "2024-06-16T08:35:44.985749Z"
    }
   },
   "id": "ac8b5c95c6276955",
   "execution_count": 195
  },
  {
   "cell_type": "markdown",
   "source": [
    "Exploratory Data Analysis: Performing basic EDA to understand the structure and distribution of the data\n",
    "This includes inspecting the first few rows, data types, summary statistics, and missing values\n"
   ],
   "metadata": {
    "collapsed": false
   },
   "id": "b9dddb757f38e036"
  },
  {
   "cell_type": "code",
   "outputs": [
    {
     "name": "stdout",
     "output_type": "stream",
     "text": [
      "   PassengerId  Survived  Pclass  \\\n",
      "0            1         0       3   \n",
      "1            2         1       1   \n",
      "2            3         1       3   \n",
      "3            4         1       1   \n",
      "4            5         0       3   \n",
      "\n",
      "                                                Name     Sex   Age  SibSp  \\\n",
      "0                            Braund, Mr. Owen Harris    male  22.0      1   \n",
      "1  Cumings, Mrs. John Bradley (Florence Briggs Th...  female  38.0      1   \n",
      "2                             Heikkinen, Miss. Laina  female  26.0      0   \n",
      "3       Futrelle, Mrs. Jacques Heath (Lily May Peel)  female  35.0      1   \n",
      "4                           Allen, Mr. William Henry    male  35.0      0   \n",
      "\n",
      "   Parch            Ticket     Fare Cabin Embarked  \n",
      "0      0         A/5 21171   7.2500   NaN        S  \n",
      "1      0          PC 17599  71.2833   C85        C  \n",
      "2      0  STON/O2. 3101282   7.9250   NaN        S  \n",
      "3      0            113803  53.1000  C123        S  \n",
      "4      0            373450   8.0500   NaN        S  \n",
      "<class 'pandas.core.frame.DataFrame'>\n",
      "RangeIndex: 891 entries, 0 to 890\n",
      "Data columns (total 12 columns):\n",
      " #   Column       Non-Null Count  Dtype  \n",
      "---  ------       --------------  -----  \n",
      " 0   PassengerId  891 non-null    int64  \n",
      " 1   Survived     891 non-null    int64  \n",
      " 2   Pclass       891 non-null    int64  \n",
      " 3   Name         891 non-null    object \n",
      " 4   Sex          891 non-null    object \n",
      " 5   Age          714 non-null    float64\n",
      " 6   SibSp        891 non-null    int64  \n",
      " 7   Parch        891 non-null    int64  \n",
      " 8   Ticket       891 non-null    object \n",
      " 9   Fare         891 non-null    float64\n",
      " 10  Cabin        204 non-null    object \n",
      " 11  Embarked     889 non-null    object \n",
      "dtypes: float64(2), int64(5), object(5)\n",
      "memory usage: 83.7+ KB\n",
      "None\n",
      "       PassengerId    Survived      Pclass         Age       SibSp  \\\n",
      "count   891.000000  891.000000  891.000000  714.000000  891.000000   \n",
      "mean    446.000000    0.383838    2.308642   29.699118    0.523008   \n",
      "std     257.353842    0.486592    0.836071   14.526497    1.102743   \n",
      "min       1.000000    0.000000    1.000000    0.420000    0.000000   \n",
      "25%     223.500000    0.000000    2.000000   20.125000    0.000000   \n",
      "50%     446.000000    0.000000    3.000000   28.000000    0.000000   \n",
      "75%     668.500000    1.000000    3.000000   38.000000    1.000000   \n",
      "max     891.000000    1.000000    3.000000   80.000000    8.000000   \n",
      "\n",
      "            Parch        Fare  \n",
      "count  891.000000  891.000000  \n",
      "mean     0.381594   32.204208  \n",
      "std      0.806057   49.693429  \n",
      "min      0.000000    0.000000  \n",
      "25%      0.000000    7.910400  \n",
      "50%      0.000000   14.454200  \n",
      "75%      0.000000   31.000000  \n",
      "max      6.000000  512.329200  \n",
      "PassengerId      0\n",
      "Survived         0\n",
      "Pclass           0\n",
      "Name             0\n",
      "Sex              0\n",
      "Age            177\n",
      "SibSp            0\n",
      "Parch            0\n",
      "Ticket           0\n",
      "Fare             0\n",
      "Cabin          687\n",
      "Embarked         2\n",
      "dtype: int64\n"
     ]
    }
   ],
   "source": [
    "# Basic EDA\n",
    "print(train.head())\n",
    "print(train.info())\n",
    "print(train.describe())\n",
    "print(train.isnull().sum())"
   ],
   "metadata": {
    "collapsed": false,
    "ExecuteTime": {
     "end_time": "2024-06-16T08:35:45.030197Z",
     "start_time": "2024-06-16T08:35:45.016336Z"
    }
   },
   "id": "f8d1c06d519a5c22",
   "execution_count": 196
  },
  {
   "cell_type": "markdown",
   "source": [
    "Visualizing the distribution of the 'Age' feature using a histogram"
   ],
   "metadata": {
    "collapsed": false
   },
   "id": "cabd6007e45a8a32"
  },
  {
   "cell_type": "code",
   "outputs": [
    {
     "data": {
      "text/plain": "<Figure size 640x480 with 1 Axes>",
      "image/png": "[encoded data removed]"
     },
     "metadata": {},
     "output_type": "display_data"
    }
   ],
   "source": [
    "# Plotting Age Distribution\n",
    "train['Age'].hist(bins=20)\n",
    "plt.title('Age Distribution')\n",
    "plt.xlabel('Age')\n",
    "plt.ylabel('Frequency')\n",
    "plt.show()"
   ],
   "metadata": {
    "collapsed": false,
    "ExecuteTime": {
     "end_time": "2024-06-16T08:35:45.140881Z",
     "start_time": "2024-06-16T08:35:45.031209Z"
    }
   },
   "id": "ef6ff269df451be2",
   "execution_count": 197
  },
  {
   "cell_type": "markdown",
   "source": [
    "Using a bar plot to visualize the survival rates based on passenger sex"
   ],
   "metadata": {
    "collapsed": false
   },
   "id": "76304baf47670222"
  },
  {
   "cell_type": "code",
   "outputs": [
    {
     "data": {
      "text/plain": "<Figure size 640x480 with 1 Axes>",
      "image/png": "[encoded data removed]"
     },
     "metadata": {},
     "output_type": "display_data"
    }
   ],
   "source": [
    "# Plotting Survival Rates by Sex\n",
    "sns.barplot(x='Sex', y='Survived', data=train)\n",
    "plt.title('Survival Rate by Sex')\n",
    "plt.xlabel('Sex (0 = male, 1 = female)')\n",
    "plt.ylabel('Survival Rate')\n",
    "plt.show()"
   ],
   "metadata": {
    "collapsed": false,
    "ExecuteTime": {
     "end_time": "2024-06-16T08:35:45.230737Z",
     "start_time": "2024-06-16T08:35:45.125553Z"
    }
   },
   "id": "bf0ed425950c4448",
   "execution_count": 198
  },
  {
   "cell_type": "markdown",
   "source": [
    "Using a box plot to visualize the relationship between age and survival"
   ],
   "metadata": {
    "collapsed": false
   },
   "id": "fcb997f5a5806279"
  },
  {
   "cell_type": "code",
   "outputs": [
    {
     "data": {
      "text/plain": "<Figure size 640x480 with 1 Axes>",
      "image/png": "[encoded data removed]"
     },
     "metadata": {},
     "output_type": "display_data"
    }
   ],
   "source": [
    "# Plotting Age vs. Survived\n",
    "sns.boxplot(x='Survived', y='Age', data=train)\n",
    "plt.title('Age vs. Survived')\n",
    "plt.show()"
   ],
   "metadata": {
    "collapsed": false,
    "ExecuteTime": {
     "end_time": "2024-06-16T08:35:45.287040Z",
     "start_time": "2024-06-16T08:35:45.219484Z"
    }
   },
   "id": "e322185ecd619c01",
   "execution_count": 199
  },
  {
   "cell_type": "markdown",
   "source": [
    "Visualizing the distribution of embarkation points using a pie chart"
   ],
   "metadata": {
    "collapsed": false
   },
   "id": "366b67d5c03fa0fa"
  },
  {
   "cell_type": "code",
   "outputs": [
    {
     "data": {
      "text/plain": "<Axes: ylabel='count'>"
     },
     "execution_count": 200,
     "metadata": {},
     "output_type": "execute_result"
    },
    {
     "data": {
      "text/plain": "<Figure size 640x480 with 1 Axes>",
      "image/png": "[encoded data removed]"
     },
     "metadata": {},
     "output_type": "display_data"
    }
   ],
   "source": [
    "# Plotting Embarked Distribution\n",
    "train['Embarked'].value_counts().plot(kind = \"pie\", autopct = \"%0.1f%%\")"
   ],
   "metadata": {
    "collapsed": false,
    "ExecuteTime": {
     "end_time": "2024-06-16T08:35:45.350789Z",
     "start_time": "2024-06-16T08:35:45.294125Z"
    }
   },
   "id": "d585f3a2a88f06bb",
   "execution_count": 200
  },
  {
   "cell_type": "markdown",
   "source": [
    "Using a count plot to visualize the count of survivors across different passenger classes"
   ],
   "metadata": {
    "collapsed": false
   },
   "id": "22bbd8cf7f910c4d"
  },
  {
   "cell_type": "code",
   "outputs": [
    {
     "data": {
      "text/plain": "<Figure size 640x480 with 1 Axes>",
      "image/png": "[encoded data removed]"
     },
     "metadata": {},
     "output_type": "display_data"
    }
   ],
   "source": [
    "# Plotting Survival Count by Passenger Class\n",
    "sns.countplot(x='Pclass', hue='Survived', data=train)\n",
    "plt.title('Survival Count by Passenger Class')\n",
    "plt.ylabel('Count')\n",
    "plt.xlabel('Passenger Class')\n",
    "plt.legend(title='Survived', loc='upper right')\n",
    "plt.show()"
   ],
   "metadata": {
    "collapsed": false,
    "ExecuteTime": {
     "end_time": "2024-06-16T08:35:45.410565Z",
     "start_time": "2024-06-16T08:35:45.330493Z"
    }
   },
   "id": "cd0132743f5fa340",
   "execution_count": 201
  },
  {
   "cell_type": "markdown",
   "source": [
    "Preprocessing data"
   ],
   "metadata": {
    "collapsed": false
   },
   "id": "8d6dc4db19264be7"
  },
  {
   "cell_type": "code",
   "outputs": [
    {
     "name": "stderr",
     "output_type": "stream",
     "text": [
      "/var/folders/vm/tx5_p67536gbw9nt3vl758cm0000gn/T/ipykernel_1150/3972758258.py:4: FutureWarning: A value is trying to be set on a copy of a DataFrame or Series through chained assignment using an inplace method.\n",
      "The behavior will change in pandas 3.0. This inplace method will never work because the intermediate object on which we are setting values always behaves as a copy.\n",
      "\n",
      "For example, when doing 'df[col].method(value, inplace=True)', try using 'df.method({col: value}, inplace=True)' or df[col] = df[col].method(value) instead, to perform the operation inplace on the original object.\n",
      "\n",
      "\n",
      "  train['Age'].fillna(train['Age'].median(), inplace=True)\n",
      "/var/folders/vm/tx5_p67536gbw9nt3vl758cm0000gn/T/ipykernel_1150/3972758258.py:6: FutureWarning: A value is trying to be set on a copy of a DataFrame or Series through chained assignment using an inplace method.\n",
      "The behavior will change in pandas 3.0. This inplace method will never work because the intermediate object on which we are setting values always behaves as a copy.\n",
      "\n",
      "For example, when doing 'df[col].method(value, inplace=True)', try using 'df.method({col: value}, inplace=True)' or df[col] = df[col].method(value) instead, to perform the operation inplace on the original object.\n",
      "\n",
      "\n",
      "  train['Embarked'].fillna(train['Embarked'].mode()[0], inplace=True)\n"
     ]
    }
   ],
   "source": [
    "# Handling Missing Values\n",
    "\n",
    "# Age: Impute missing values using the median\n",
    "train['Age'].fillna(train['Age'].median(), inplace=True)\n",
    "# Embarked: Impute missing values with the most frequent value\n",
    "train['Embarked'].fillna(train['Embarked'].mode()[0], inplace=True)\n",
    "# Cabin: This column has a lot of missing values, we will drop this column\n",
    "train = train.drop(columns=['Cabin'])"
   ],
   "metadata": {
    "collapsed": false,
    "ExecuteTime": {
     "end_time": "2024-06-16T08:35:45.415150Z",
     "start_time": "2024-06-16T08:35:45.410953Z"
    }
   },
   "id": "de48809f63d9c8c1",
   "execution_count": 202
  },
  {
   "cell_type": "code",
   "outputs": [],
   "source": [
    "# Creating new feature\n",
    "train['FamilySize'] = train['SibSp'] + train['Parch'] + 1\n",
    "train['Single'] = (train['FamilySize'] == 1).astype(int)\n",
    "train = train.drop(columns=['SibSp', 'Parch'])\n",
    "\n",
    "# Dropping columns that are not useful for now\n",
    "train = train.drop(columns=['Name', 'Ticket'])"
   ],
   "metadata": {
    "collapsed": false,
    "ExecuteTime": {
     "end_time": "2024-06-16T08:35:45.423269Z",
     "start_time": "2024-06-16T08:35:45.419260Z"
    }
   },
   "id": "5fffa719d71fc3d9",
   "execution_count": 203
  },
  {
   "cell_type": "code",
   "outputs": [
    {
     "data": {
      "text/plain": "   PassengerId  Survived  Pclass   Age     Fare  FamilySize  Single  Sex_male  \\\n0            1         0       3  22.0   7.2500           2       0      True   \n1            2         1       1  38.0  71.2833           2       0     False   \n2            3         1       3  26.0   7.9250           1       1     False   \n3            4         1       1  35.0  53.1000           2       0     False   \n4            5         0       3  35.0   8.0500           1       1      True   \n\n   Embarked_Q  Embarked_S  \n0       False        True  \n1       False       False  \n2       False        True  \n3       False        True  \n4       False        True  ",
      "text/html": "<div>\n<style scoped>\n    .dataframe tbody tr th:only-of-type {\n        vertical-align: middle;\n    }\n\n    .dataframe tbody tr th {\n        vertical-align: top;\n    }\n\n    .dataframe thead th {\n        text-align: right;\n    }\n</style>\n<table border=\"1\" class=\"dataframe\">\n  <thead>\n    <tr style=\"text-align: right;\">\n      <th></th>\n      <th>PassengerId</th>\n      <th>Survived</th>\n      <th>Pclass</th>\n      <th>Age</th>\n      <th>Fare</th>\n      <th>FamilySize</th>\n      <th>Single</th>\n      <th>Sex_male</th>\n      <th>Embarked_Q</th>\n      <th>Embarked_S</th>\n    </tr>\n  </thead>\n  <tbody>\n    <tr>\n      <th>0</th>\n      <td>1</td>\n      <td>0</td>\n      <td>3</td>\n      <td>22.0</td>\n      <td>7.2500</td>\n      <td>2</td>\n      <td>0</td>\n      <td>True</td>\n      <td>False</td>\n      <td>True</td>\n    </tr>\n    <tr>\n      <th>1</th>\n      <td>2</td>\n      <td>1</td>\n      <td>1</td>\n      <td>38.0</td>\n      <td>71.2833</td>\n      <td>2</td>\n      <td>0</td>\n      <td>False</td>\n      <td>False</td>\n      <td>False</td>\n    </tr>\n    <tr>\n      <th>2</th>\n      <td>3</td>\n      <td>1</td>\n      <td>3</td>\n      <td>26.0</td>\n      <td>7.9250</td>\n      <td>1</td>\n      <td>1</td>\n      <td>False</td>\n      <td>False</td>\n      <td>True</td>\n    </tr>\n    <tr>\n      <th>3</th>\n      <td>4</td>\n      <td>1</td>\n      <td>1</td>\n      <td>35.0</td>\n      <td>53.1000</td>\n      <td>2</td>\n      <td>0</td>\n      <td>False</td>\n      <td>False</td>\n      <td>True</td>\n    </tr>\n    <tr>\n      <th>4</th>\n      <td>5</td>\n      <td>0</td>\n      <td>3</td>\n      <td>35.0</td>\n      <td>8.0500</td>\n      <td>1</td>\n      <td>1</td>\n      <td>True</td>\n      <td>False</td>\n      <td>True</td>\n    </tr>\n  </tbody>\n</table>\n</div>"
     },
     "execution_count": 204,
     "metadata": {},
     "output_type": "execute_result"
    }
   ],
   "source": [
    "train = pd.get_dummies(train, columns=['Sex', 'Embarked'], drop_first=True)\n",
    "train.head()"
   ],
   "metadata": {
    "collapsed": false,
    "ExecuteTime": {
     "end_time": "2024-06-16T08:35:45.469357Z",
     "start_time": "2024-06-16T08:35:45.423730Z"
    }
   },
   "id": "29d9e917fb4f3929",
   "execution_count": 204
  },
  {
   "cell_type": "markdown",
   "source": [
    "Splitting the data into training and testing sets"
   ],
   "metadata": {
    "collapsed": false
   },
   "id": "cf4a5ec489ce3d19"
  },
  {
   "cell_type": "code",
   "outputs": [],
   "source": [
    "# Splitting data\n",
    "X = train.drop(columns=['PassengerId', 'Survived'])\n",
    "y = train['Survived']\n",
    "X_train, X_test, y_train, y_test = train_test_split(X, y, test_size=0.2, random_state=42)"
   ],
   "metadata": {
    "collapsed": false,
    "ExecuteTime": {
     "end_time": "2024-06-16T08:35:45.469711Z",
     "start_time": "2024-06-16T08:35:45.432415Z"
    }
   },
   "id": "8c3416913733326",
   "execution_count": 205
  },
  {
   "cell_type": "markdown",
   "source": [
    "Model Selection & Model Deployment: Train and evaluate multiple models using GridSearchCV to find the best hyperparameters"
   ],
   "metadata": {
    "collapsed": false
   },
   "id": "d9e0e1252b077c3e"
  },
  {
   "cell_type": "code",
   "outputs": [
    {
     "name": "stdout",
     "output_type": "stream",
     "text": [
      "Best parameters found by GridSearchCV: {'logisticregression__C': 1, 'logisticregression__penalty': 'l1', 'logisticregression__solver': 'liblinear'}\n",
      "Best accuracy score from GridSearchCV: 0.8033290653008963\n",
      "Test set accuracy: 0.7932960893854749\n",
      "Classification Report:\n",
      "              precision    recall  f1-score   support\n",
      "\n",
      "           0       0.81      0.85      0.83       105\n",
      "           1       0.77      0.72      0.74        74\n",
      "\n",
      "    accuracy                           0.79       179\n",
      "   macro avg       0.79      0.78      0.78       179\n",
      "weighted avg       0.79      0.79      0.79       179\n"
     ]
    }
   ],
   "source": [
    "# Logistic Regression\n",
    "log_reg = LogisticRegression(max_iter=1000)\n",
    "\n",
    "# Hyperparameters to search\n",
    "param_grid = {\n",
    "    'logisticregression__C': [0.01, 0.1, 1, 10, 100],\n",
    "    'logisticregression__penalty': ['l1', 'l2'],\n",
    "    'logisticregression__solver': ['liblinear'],\n",
    "}\n",
    "\n",
    "# Create a pipeline with a scaler and logistic regression\n",
    "pipeline = Pipeline([\n",
    "    ('scaler', StandardScaler()),\n",
    "    ('logisticregression', log_reg)\n",
    "])\n",
    "\n",
    "# GridSearchCV\n",
    "grid_search = GridSearchCV(pipeline, param_grid, cv=5, scoring='accuracy')\n",
    "grid_search.fit(X_train, y_train)\n",
    "\n",
    "\n",
    "# Best parameters and best score\n",
    "print(\"Best parameters found by GridSearchCV:\", grid_search.best_params_)\n",
    "print(\"Best accuracy score from GridSearchCV:\", grid_search.best_score_)\n",
    "\n",
    "# Evaluate on the Test Set\n",
    "best_model = grid_search.best_estimator_\n",
    "\n",
    "y_pred = best_model.predict(X_test)\n",
    "test_accuracy = accuracy_score(y_test, y_pred)\n",
    "print(\"Test set accuracy:\", test_accuracy)\n",
    "report = classification_report(y_test, y_pred)\n",
    "print(f'Classification Report:\\n{report}')"
   ],
   "metadata": {
    "collapsed": false,
    "ExecuteTime": {
     "end_time": "2024-06-16T08:35:45.606060Z",
     "start_time": "2024-06-16T08:35:45.438778Z"
    }
   },
   "id": "4ac44e1df318373d",
   "execution_count": 206
  },
  {
   "cell_type": "code",
   "outputs": [
    {
     "name": "stdout",
     "output_type": "stream",
     "text": [
      "Best parameters found by GridSearchCV: {'randomforest__max_depth': None, 'randomforest__min_samples_leaf': 4, 'randomforest__min_samples_split': 10, 'randomforest__n_estimators': 100}\n",
      "Best accuracy score from GridSearchCV: 0.8257854821235103\n",
      "Test set accuracy: 0.8100558659217877\n",
      "Classification Report:\n",
      "              precision    recall  f1-score   support\n",
      "\n",
      "           0       0.80      0.90      0.85       105\n",
      "           1       0.82      0.69      0.75        74\n",
      "\n",
      "    accuracy                           0.81       179\n",
      "   macro avg       0.81      0.79      0.80       179\n",
      "weighted avg       0.81      0.81      0.81       179\n"
     ]
    }
   ],
   "source": [
    "# Random Forest Classifier\n",
    "rf_clf = RandomForestClassifier(random_state=42)\n",
    "\n",
    "# Define the pipeline with scaler and model\n",
    "pipeline = Pipeline([\n",
    "    ('scaler', StandardScaler()),\n",
    "    ('randomforest', rf_clf)\n",
    "])\n",
    "\n",
    "# Define hyperparameters for GridSearchCV\n",
    "param_grid = {\n",
    "    'randomforest__n_estimators': [50, 100, 200],\n",
    "    'randomforest__max_depth': [None, 10, 20, 30],\n",
    "    'randomforest__min_samples_split': [2, 5, 10],\n",
    "    'randomforest__min_samples_leaf': [1, 2, 4]\n",
    "}\n",
    "\n",
    "# Perform GridSearchCV\n",
    "grid_search = GridSearchCV(pipeline, param_grid, cv=5, scoring='accuracy')\n",
    "grid_search.fit(X_train, y_train)\n",
    "\n",
    "# Best parameters and best score\n",
    "print(\"Best parameters found by GridSearchCV:\", grid_search.best_params_)\n",
    "print(\"Best accuracy score from GridSearchCV:\", grid_search.best_score_)\n",
    "\n",
    "# Evaluate on the Test Set\n",
    "best_model = grid_search.best_estimator_\n",
    "y_pred = best_model.predict(X_test)\n",
    "test_accuracy = accuracy_score(y_test, y_pred)\n",
    "print(\"Test set accuracy:\", test_accuracy)\n",
    "report = classification_report(y_test, y_pred)\n",
    "print(f'Classification Report:\\n{report}')"
   ],
   "metadata": {
    "collapsed": false,
    "ExecuteTime": {
     "end_time": "2024-06-16T08:36:24.196394Z",
     "start_time": "2024-06-16T08:35:45.597274Z"
    }
   },
   "id": "5eb2fbbfb06bef37",
   "execution_count": 207
  },
  {
   "cell_type": "markdown",
   "source": [
    "Conclusion:\n",
    "Based on the evaluation metrics and considering the slightly better accuracy and F1-score for predicting survival (class 1), the Random Forest Classifier appears to be the better model for this dataset."
   ],
   "metadata": {
    "collapsed": false
   },
   "id": "205d24695697ccd7"
  },
  {
   "cell_type": "markdown",
   "source": [
    "Preprocessing Test data"
   ],
   "metadata": {
    "collapsed": false
   },
   "id": "f47e6c55485fc8b7"
  },
  {
   "cell_type": "code",
   "outputs": [
    {
     "name": "stderr",
     "output_type": "stream",
     "text": [
      "/var/folders/vm/tx5_p67536gbw9nt3vl758cm0000gn/T/ipykernel_1150/437766820.py:4: FutureWarning: A value is trying to be set on a copy of a DataFrame or Series through chained assignment using an inplace method.\n",
      "The behavior will change in pandas 3.0. This inplace method will never work because the intermediate object on which we are setting values always behaves as a copy.\n",
      "\n",
      "For example, when doing 'df[col].method(value, inplace=True)', try using 'df.method({col: value}, inplace=True)' or df[col] = df[col].method(value) instead, to perform the operation inplace on the original object.\n",
      "\n",
      "\n",
      "  test['Age'].fillna(test['Age'].median(), inplace=True)\n",
      "/var/folders/vm/tx5_p67536gbw9nt3vl758cm0000gn/T/ipykernel_1150/437766820.py:6: FutureWarning: A value is trying to be set on a copy of a DataFrame or Series through chained assignment using an inplace method.\n",
      "The behavior will change in pandas 3.0. This inplace method will never work because the intermediate object on which we are setting values always behaves as a copy.\n",
      "\n",
      "For example, when doing 'df[col].method(value, inplace=True)', try using 'df.method({col: value}, inplace=True)' or df[col] = df[col].method(value) instead, to perform the operation inplace on the original object.\n",
      "\n",
      "\n",
      "  test['Embarked'].fillna(test['Embarked'].mode()[0], inplace=True)\n"
     ]
    }
   ],
   "source": [
    "# Handling Missing Values\n",
    "\n",
    "# Age: Impute missing values using the median\n",
    "test['Age'].fillna(test['Age'].median(), inplace=True)\n",
    "# Embarked: Impute missing values with the most frequent value\n",
    "test['Embarked'].fillna(test['Embarked'].mode()[0], inplace=True)\n",
    "# Cabin: This column has a lot of missing values, we will drop this column\n",
    "test = test.drop(columns=['Cabin'])"
   ],
   "metadata": {
    "collapsed": false,
    "ExecuteTime": {
     "end_time": "2024-06-16T08:36:24.201719Z",
     "start_time": "2024-06-16T08:36:24.196715Z"
    }
   },
   "id": "179e48a5697f684a",
   "execution_count": 208
  },
  {
   "cell_type": "code",
   "outputs": [
    {
     "data": {
      "text/plain": "   PassengerId  Pclass   Age     Fare  FamilySize  Single  Sex_male  \\\n0          892       3  34.5   7.8292           1       1      True   \n1          893       3  47.0   7.0000           2       0     False   \n2          894       2  62.0   9.6875           1       1      True   \n3          895       3  27.0   8.6625           1       1      True   \n4          896       3  22.0  12.2875           3       0     False   \n\n   Embarked_Q  Embarked_S  \n0        True       False  \n1       False        True  \n2        True       False  \n3       False        True  \n4       False        True  ",
      "text/html": "<div>\n<style scoped>\n    .dataframe tbody tr th:only-of-type {\n        vertical-align: middle;\n    }\n\n    .dataframe tbody tr th {\n        vertical-align: top;\n    }\n\n    .dataframe thead th {\n        text-align: right;\n    }\n</style>\n<table border=\"1\" class=\"dataframe\">\n  <thead>\n    <tr style=\"text-align: right;\">\n      <th></th>\n      <th>PassengerId</th>\n      <th>Pclass</th>\n      <th>Age</th>\n      <th>Fare</th>\n      <th>FamilySize</th>\n      <th>Single</th>\n      <th>Sex_male</th>\n      <th>Embarked_Q</th>\n      <th>Embarked_S</th>\n    </tr>\n  </thead>\n  <tbody>\n    <tr>\n      <th>0</th>\n      <td>892</td>\n      <td>3</td>\n      <td>34.5</td>\n      <td>7.8292</td>\n      <td>1</td>\n      <td>1</td>\n      <td>True</td>\n      <td>True</td>\n      <td>False</td>\n    </tr>\n    <tr>\n      <th>1</th>\n      <td>893</td>\n      <td>3</td>\n      <td>47.0</td>\n      <td>7.0000</td>\n      <td>2</td>\n      <td>0</td>\n      <td>False</td>\n      <td>False</td>\n      <td>True</td>\n    </tr>\n    <tr>\n      <th>2</th>\n      <td>894</td>\n      <td>2</td>\n      <td>62.0</td>\n      <td>9.6875</td>\n      <td>1</td>\n      <td>1</td>\n      <td>True</td>\n      <td>True</td>\n      <td>False</td>\n    </tr>\n    <tr>\n      <th>3</th>\n      <td>895</td>\n      <td>3</td>\n      <td>27.0</td>\n      <td>8.6625</td>\n      <td>1</td>\n      <td>1</td>\n      <td>True</td>\n      <td>False</td>\n      <td>True</td>\n    </tr>\n    <tr>\n      <th>4</th>\n      <td>896</td>\n      <td>3</td>\n      <td>22.0</td>\n      <td>12.2875</td>\n      <td>3</td>\n      <td>0</td>\n      <td>False</td>\n      <td>False</td>\n      <td>True</td>\n    </tr>\n  </tbody>\n</table>\n</div>"
     },
     "execution_count": 209,
     "metadata": {},
     "output_type": "execute_result"
    }
   ],
   "source": [
    "# Creating new feature\n",
    "test['FamilySize'] = test['SibSp'] + test['Parch'] + 1\n",
    "test['Single'] = (test['FamilySize'] == 1).astype(int)\n",
    "test = test.drop(columns=['SibSp', 'Parch'])\n",
    "\n",
    "# Dropping columns that are not useful for now\n",
    "test = test.drop(columns=['Name', 'Ticket'])\n",
    "\n",
    "test = pd.get_dummies(test, columns=['Sex', 'Embarked'], drop_first=True)\n",
    "test.head()"
   ],
   "metadata": {
    "collapsed": false,
    "ExecuteTime": {
     "end_time": "2024-06-16T08:36:24.212989Z",
     "start_time": "2024-06-16T08:36:24.200989Z"
    }
   },
   "id": "5c51b5fa6b7f827f",
   "execution_count": 209
  },
  {
   "cell_type": "markdown",
   "source": [
    "Predicting on Test Data"
   ],
   "metadata": {
    "collapsed": false
   },
   "id": "163658b37321f34e"
  },
  {
   "cell_type": "code",
   "outputs": [],
   "source": [
    "# Dropping 'PassengerId' and use the best model to predict on the test set\n",
    "X_test_val = test.drop(columns=['PassengerId'])\n",
    "# Performing predictions on the test set using the best model\n",
    "test_predictions = best_model.predict(X_test_val)"
   ],
   "metadata": {
    "collapsed": false,
    "ExecuteTime": {
     "end_time": "2024-06-16T08:36:24.237019Z",
     "start_time": "2024-06-16T08:36:24.212181Z"
    }
   },
   "id": "5345dad788b1a60f",
   "execution_count": 210
  },
  {
   "cell_type": "code",
   "outputs": [],
   "source": [
    "# Creating Submission File\n",
    "submission = pd.DataFrame({\n",
    "    'PassengerId': test['PassengerId'], \n",
    "    'Survived': test_predictions\n",
    "})\n",
    "\n",
    "submission.to_csv('submission.csv', index=False)"
   ],
   "metadata": {
    "collapsed": false,
    "ExecuteTime": {
     "end_time": "2024-06-16T08:36:24.237461Z",
     "start_time": "2024-06-16T08:36:24.220275Z"
    }
   },
   "id": "5e15a512bd6df7b4",
   "execution_count": 211
  }
 ],
 "metadata": {
  "kernelspec": {
   "display_name": "Python 3",
   "language": "python",
   "name": "python3"
  },
  "language_info": {
   "codemirror_mode": {
    "name": "ipython",
    "version": 2
   },
   "file_extension": ".py",
   "mimetype": "text/x-python",
   "name": "python",
   "nbconvert_exporter": "python",
   "pygments_lexer": "ipython2",
   "version": "2.7.6"
  }
 },
 "nbformat": 4,
 "nbformat_minor": 5
}
